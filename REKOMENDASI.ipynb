{
 "cells": [
  {
   "cell_type": "markdown",
   "id": "b3034281",
   "metadata": {},
   "source": [
    "# BUSINESS UNDERSTANDING"
   ]
  },
  {
   "cell_type": "markdown",
   "id": "2050dc32",
   "metadata": {},
   "source": [
    "Perkembangan pesat layanan streaming dan platform konten digital menyebabkan jumlah film dan video yang tersedia semakin melimpah. Pengguna sering kali merasa kesulitan untuk menemukan film yang sesuai dengan preferensi dan minat mereka di antara ribuan judul yang tersedia. Hal ini menimbulkan kebutuhan mendesak akan sistem rekomendasi yang dapat membantu pengguna menemukan konten yang relevan dengan cepat dan efisien.\n",
    "\n",
    "Sistem rekomendasi berbasis Collaborative Filtering (CF) dan Content-Based Filtering (CBF) merupakan pendekatan yang populer dalam menyediakan rekomendasi personalisasi. CF memanfaatkan pola interaksi pengguna terhadap film yang dinilai sebelumnya, sementara CBF menggunakan atribut konten film seperti genre, sutradara, dan deskripsi untuk menentukan rekomendasi. Menggabungkan kedua pendekatan ini dalam sistem hybrid dapat meningkatkan akurasi dan kualitas rekomendasi, sehingga meningkatkan kepuasan dan loyalitas pengguna.\n",
    "\n",
    "Mengingat banyaknya data pengguna dan film yang tersedia, proyek ini sangat penting untuk diselesaikan guna membantu platform digital dalam menyediakan pengalaman yang lebih personal dan efektif. Dengan adanya sistem rekomendasi yang baik, pengguna dapat dengan mudah menemukan film yang sesuai, sehingga meningkatkan waktu penggunaan platform dan potensi pendapatan layanan.\n",
    "\n"
   ]
  },
  {
   "cell_type": "markdown",
   "id": "356dd872",
   "metadata": {},
   "source": [
    "# DATA UNDERSTANDING"
   ]
  },
  {
   "cell_type": "markdown",
   "id": "a4ce4fde",
   "metadata": {},
   "source": [
    "Proyek ini menggunakan dataset MovieLens 20M yang tersedia secara publik dan dapat diunduh dari tautan berikut:\n",
    "https://www.kaggle.com/datasets/grouplens/movielens-20m-dataset?select=tag.csv"
   ]
  },
  {
   "cell_type": "code",
   "execution_count": 1,
   "id": "0c7ed722",
   "metadata": {},
   "outputs": [],
   "source": [
    "import pandas as pd\n",
    "import numpy as np\n",
    "import matplotlib.pyplot as plt\n",
    "import seaborn as sns\n",
    "from sklearn.model_selection import train_test_split"
   ]
  },
  {
   "cell_type": "code",
   "execution_count": 2,
   "id": "3f80c25b",
   "metadata": {},
   "outputs": [],
   "source": [
    "# Load data\n",
    "movie = pd.read_csv('Data/movie.csv')\n",
    "ratings = pd.read_csv('Data/rating.csv')\n",
    "tag = pd.read_csv('Data/tag.csv')"
   ]
  },
  {
   "cell_type": "code",
   "execution_count": 3,
   "id": "94aa2ef6",
   "metadata": {},
   "outputs": [
    {
     "name": "stdout",
     "output_type": "stream",
     "text": [
      "<class 'pandas.core.frame.DataFrame'>\n",
      "RangeIndex: 27278 entries, 0 to 27277\n",
      "Data columns (total 3 columns):\n",
      " #   Column   Non-Null Count  Dtype \n",
      "---  ------   --------------  ----- \n",
      " 0   movieId  27278 non-null  int64 \n",
      " 1   title    27278 non-null  object\n",
      " 2   genres   27278 non-null  object\n",
      "dtypes: int64(1), object(2)\n",
      "memory usage: 639.5+ KB\n"
     ]
    },
    {
     "data": {
      "text/html": [
       "<div>\n",
       "<style scoped>\n",
       "    .dataframe tbody tr th:only-of-type {\n",
       "        vertical-align: middle;\n",
       "    }\n",
       "\n",
       "    .dataframe tbody tr th {\n",
       "        vertical-align: top;\n",
       "    }\n",
       "\n",
       "    .dataframe thead th {\n",
       "        text-align: right;\n",
       "    }\n",
       "</style>\n",
       "<table border=\"1\" class=\"dataframe\">\n",
       "  <thead>\n",
       "    <tr style=\"text-align: right;\">\n",
       "      <th></th>\n",
       "      <th>movieId</th>\n",
       "      <th>title</th>\n",
       "      <th>genres</th>\n",
       "    </tr>\n",
       "  </thead>\n",
       "  <tbody>\n",
       "    <tr>\n",
       "      <th>0</th>\n",
       "      <td>1</td>\n",
       "      <td>Toy Story (1995)</td>\n",
       "      <td>Adventure|Animation|Children|Comedy|Fantasy</td>\n",
       "    </tr>\n",
       "    <tr>\n",
       "      <th>1</th>\n",
       "      <td>2</td>\n",
       "      <td>Jumanji (1995)</td>\n",
       "      <td>Adventure|Children|Fantasy</td>\n",
       "    </tr>\n",
       "    <tr>\n",
       "      <th>2</th>\n",
       "      <td>3</td>\n",
       "      <td>Grumpier Old Men (1995)</td>\n",
       "      <td>Comedy|Romance</td>\n",
       "    </tr>\n",
       "    <tr>\n",
       "      <th>3</th>\n",
       "      <td>4</td>\n",
       "      <td>Waiting to Exhale (1995)</td>\n",
       "      <td>Comedy|Drama|Romance</td>\n",
       "    </tr>\n",
       "    <tr>\n",
       "      <th>4</th>\n",
       "      <td>5</td>\n",
       "      <td>Father of the Bride Part II (1995)</td>\n",
       "      <td>Comedy</td>\n",
       "    </tr>\n",
       "    <tr>\n",
       "      <th>...</th>\n",
       "      <td>...</td>\n",
       "      <td>...</td>\n",
       "      <td>...</td>\n",
       "    </tr>\n",
       "    <tr>\n",
       "      <th>27273</th>\n",
       "      <td>131254</td>\n",
       "      <td>Kein Bund für's Leben (2007)</td>\n",
       "      <td>Comedy</td>\n",
       "    </tr>\n",
       "    <tr>\n",
       "      <th>27274</th>\n",
       "      <td>131256</td>\n",
       "      <td>Feuer, Eis &amp; Dosenbier (2002)</td>\n",
       "      <td>Comedy</td>\n",
       "    </tr>\n",
       "    <tr>\n",
       "      <th>27275</th>\n",
       "      <td>131258</td>\n",
       "      <td>The Pirates (2014)</td>\n",
       "      <td>Adventure</td>\n",
       "    </tr>\n",
       "    <tr>\n",
       "      <th>27276</th>\n",
       "      <td>131260</td>\n",
       "      <td>Rentun Ruusu (2001)</td>\n",
       "      <td>(no genres listed)</td>\n",
       "    </tr>\n",
       "    <tr>\n",
       "      <th>27277</th>\n",
       "      <td>131262</td>\n",
       "      <td>Innocence (2014)</td>\n",
       "      <td>Adventure|Fantasy|Horror</td>\n",
       "    </tr>\n",
       "  </tbody>\n",
       "</table>\n",
       "<p>27278 rows × 3 columns</p>\n",
       "</div>"
      ],
      "text/plain": [
       "       movieId                               title  \\\n",
       "0            1                    Toy Story (1995)   \n",
       "1            2                      Jumanji (1995)   \n",
       "2            3             Grumpier Old Men (1995)   \n",
       "3            4            Waiting to Exhale (1995)   \n",
       "4            5  Father of the Bride Part II (1995)   \n",
       "...        ...                                 ...   \n",
       "27273   131254        Kein Bund für's Leben (2007)   \n",
       "27274   131256       Feuer, Eis & Dosenbier (2002)   \n",
       "27275   131258                  The Pirates (2014)   \n",
       "27276   131260                 Rentun Ruusu (2001)   \n",
       "27277   131262                    Innocence (2014)   \n",
       "\n",
       "                                            genres  \n",
       "0      Adventure|Animation|Children|Comedy|Fantasy  \n",
       "1                       Adventure|Children|Fantasy  \n",
       "2                                   Comedy|Romance  \n",
       "3                             Comedy|Drama|Romance  \n",
       "4                                           Comedy  \n",
       "...                                            ...  \n",
       "27273                                       Comedy  \n",
       "27274                                       Comedy  \n",
       "27275                                    Adventure  \n",
       "27276                           (no genres listed)  \n",
       "27277                     Adventure|Fantasy|Horror  \n",
       "\n",
       "[27278 rows x 3 columns]"
      ]
     },
     "execution_count": 3,
     "metadata": {},
     "output_type": "execute_result"
    }
   ],
   "source": [
    "movie.info()\n",
    "movie"
   ]
  },
  {
   "cell_type": "markdown",
   "id": "bca237b9",
   "metadata": {},
   "source": [
    "Data ini memiliki jumlah baris sebesar 27.278 entri film dengan fitur sebagai berikut\n",
    "- movieId (int64): ID unik untuk setiap film.\n",
    "- title (object): Judul film.\n",
    "- genres (object): Genre film, dipisahkan dengan tanda \"|\".\n",
    "\n",
    "Data tidak ada nilai null pada kolom movieId, title, dan genres."
   ]
  },
  {
   "cell_type": "code",
   "execution_count": 4,
   "id": "06ae573e",
   "metadata": {},
   "outputs": [
    {
     "name": "stdout",
     "output_type": "stream",
     "text": [
      "<class 'pandas.core.frame.DataFrame'>\n",
      "RangeIndex: 20000263 entries, 0 to 20000262\n",
      "Data columns (total 4 columns):\n",
      " #   Column     Dtype  \n",
      "---  ------     -----  \n",
      " 0   userId     int64  \n",
      " 1   movieId    int64  \n",
      " 2   rating     float64\n",
      " 3   timestamp  object \n",
      "dtypes: float64(1), int64(2), object(1)\n",
      "memory usage: 610.4+ MB\n"
     ]
    },
    {
     "data": {
      "text/html": [
       "<div>\n",
       "<style scoped>\n",
       "    .dataframe tbody tr th:only-of-type {\n",
       "        vertical-align: middle;\n",
       "    }\n",
       "\n",
       "    .dataframe tbody tr th {\n",
       "        vertical-align: top;\n",
       "    }\n",
       "\n",
       "    .dataframe thead th {\n",
       "        text-align: right;\n",
       "    }\n",
       "</style>\n",
       "<table border=\"1\" class=\"dataframe\">\n",
       "  <thead>\n",
       "    <tr style=\"text-align: right;\">\n",
       "      <th></th>\n",
       "      <th>userId</th>\n",
       "      <th>movieId</th>\n",
       "      <th>rating</th>\n",
       "      <th>timestamp</th>\n",
       "    </tr>\n",
       "  </thead>\n",
       "  <tbody>\n",
       "    <tr>\n",
       "      <th>0</th>\n",
       "      <td>1</td>\n",
       "      <td>2</td>\n",
       "      <td>3.5</td>\n",
       "      <td>2005-04-02 23:53:47</td>\n",
       "    </tr>\n",
       "    <tr>\n",
       "      <th>1</th>\n",
       "      <td>1</td>\n",
       "      <td>29</td>\n",
       "      <td>3.5</td>\n",
       "      <td>2005-04-02 23:31:16</td>\n",
       "    </tr>\n",
       "    <tr>\n",
       "      <th>2</th>\n",
       "      <td>1</td>\n",
       "      <td>32</td>\n",
       "      <td>3.5</td>\n",
       "      <td>2005-04-02 23:33:39</td>\n",
       "    </tr>\n",
       "    <tr>\n",
       "      <th>3</th>\n",
       "      <td>1</td>\n",
       "      <td>47</td>\n",
       "      <td>3.5</td>\n",
       "      <td>2005-04-02 23:32:07</td>\n",
       "    </tr>\n",
       "    <tr>\n",
       "      <th>4</th>\n",
       "      <td>1</td>\n",
       "      <td>50</td>\n",
       "      <td>3.5</td>\n",
       "      <td>2005-04-02 23:29:40</td>\n",
       "    </tr>\n",
       "    <tr>\n",
       "      <th>...</th>\n",
       "      <td>...</td>\n",
       "      <td>...</td>\n",
       "      <td>...</td>\n",
       "      <td>...</td>\n",
       "    </tr>\n",
       "    <tr>\n",
       "      <th>20000258</th>\n",
       "      <td>138493</td>\n",
       "      <td>68954</td>\n",
       "      <td>4.5</td>\n",
       "      <td>2009-11-13 15:42:00</td>\n",
       "    </tr>\n",
       "    <tr>\n",
       "      <th>20000259</th>\n",
       "      <td>138493</td>\n",
       "      <td>69526</td>\n",
       "      <td>4.5</td>\n",
       "      <td>2009-12-03 18:31:48</td>\n",
       "    </tr>\n",
       "    <tr>\n",
       "      <th>20000260</th>\n",
       "      <td>138493</td>\n",
       "      <td>69644</td>\n",
       "      <td>3.0</td>\n",
       "      <td>2009-12-07 18:10:57</td>\n",
       "    </tr>\n",
       "    <tr>\n",
       "      <th>20000261</th>\n",
       "      <td>138493</td>\n",
       "      <td>70286</td>\n",
       "      <td>5.0</td>\n",
       "      <td>2009-11-13 15:42:24</td>\n",
       "    </tr>\n",
       "    <tr>\n",
       "      <th>20000262</th>\n",
       "      <td>138493</td>\n",
       "      <td>71619</td>\n",
       "      <td>2.5</td>\n",
       "      <td>2009-10-17 20:25:36</td>\n",
       "    </tr>\n",
       "  </tbody>\n",
       "</table>\n",
       "<p>20000263 rows × 4 columns</p>\n",
       "</div>"
      ],
      "text/plain": [
       "          userId  movieId  rating            timestamp\n",
       "0              1        2     3.5  2005-04-02 23:53:47\n",
       "1              1       29     3.5  2005-04-02 23:31:16\n",
       "2              1       32     3.5  2005-04-02 23:33:39\n",
       "3              1       47     3.5  2005-04-02 23:32:07\n",
       "4              1       50     3.5  2005-04-02 23:29:40\n",
       "...          ...      ...     ...                  ...\n",
       "20000258  138493    68954     4.5  2009-11-13 15:42:00\n",
       "20000259  138493    69526     4.5  2009-12-03 18:31:48\n",
       "20000260  138493    69644     3.0  2009-12-07 18:10:57\n",
       "20000261  138493    70286     5.0  2009-11-13 15:42:24\n",
       "20000262  138493    71619     2.5  2009-10-17 20:25:36\n",
       "\n",
       "[20000263 rows x 4 columns]"
      ]
     },
     "execution_count": 4,
     "metadata": {},
     "output_type": "execute_result"
    }
   ],
   "source": [
    "ratings.info()\n",
    "ratings"
   ]
  },
  {
   "cell_type": "markdown",
   "id": "18e19b89",
   "metadata": {},
   "source": [
    "Data ini memiliki jumlah baris sebesar 20.000.263 entri rating dari pengguna dengan fitur sebagai berikut\n",
    "- userId (int64): ID unik pengguna yang memberi rating.\n",
    "- movieId (int64): ID film yang diberi rating.\n",
    "- rating (float64): Nilai rating yang diberikan pengguna terhadap film, biasanya dalam rentang 0.5 sampai 5.\n",
    "- timestamp (object): Waktu saat rating diberikan (biasanya UNIX timestamp).\n",
    "\n",
    "Data tidak ada nilai null pada userId, movieId, dan rating. Kolom timestamp berupa string/waktu."
   ]
  },
  {
   "cell_type": "code",
   "execution_count": 5,
   "id": "d2864516",
   "metadata": {},
   "outputs": [
    {
     "name": "stdout",
     "output_type": "stream",
     "text": [
      "<class 'pandas.core.frame.DataFrame'>\n",
      "RangeIndex: 465564 entries, 0 to 465563\n",
      "Data columns (total 4 columns):\n",
      " #   Column     Non-Null Count   Dtype \n",
      "---  ------     --------------   ----- \n",
      " 0   userId     465564 non-null  int64 \n",
      " 1   movieId    465564 non-null  int64 \n",
      " 2   tag        465548 non-null  object\n",
      " 3   timestamp  465564 non-null  object\n",
      "dtypes: int64(2), object(2)\n",
      "memory usage: 14.2+ MB\n"
     ]
    },
    {
     "data": {
      "text/html": [
       "<div>\n",
       "<style scoped>\n",
       "    .dataframe tbody tr th:only-of-type {\n",
       "        vertical-align: middle;\n",
       "    }\n",
       "\n",
       "    .dataframe tbody tr th {\n",
       "        vertical-align: top;\n",
       "    }\n",
       "\n",
       "    .dataframe thead th {\n",
       "        text-align: right;\n",
       "    }\n",
       "</style>\n",
       "<table border=\"1\" class=\"dataframe\">\n",
       "  <thead>\n",
       "    <tr style=\"text-align: right;\">\n",
       "      <th></th>\n",
       "      <th>userId</th>\n",
       "      <th>movieId</th>\n",
       "      <th>tag</th>\n",
       "      <th>timestamp</th>\n",
       "    </tr>\n",
       "  </thead>\n",
       "  <tbody>\n",
       "    <tr>\n",
       "      <th>0</th>\n",
       "      <td>18</td>\n",
       "      <td>4141</td>\n",
       "      <td>Mark Waters</td>\n",
       "      <td>2009-04-24 18:19:40</td>\n",
       "    </tr>\n",
       "    <tr>\n",
       "      <th>1</th>\n",
       "      <td>65</td>\n",
       "      <td>208</td>\n",
       "      <td>dark hero</td>\n",
       "      <td>2013-05-10 01:41:18</td>\n",
       "    </tr>\n",
       "    <tr>\n",
       "      <th>2</th>\n",
       "      <td>65</td>\n",
       "      <td>353</td>\n",
       "      <td>dark hero</td>\n",
       "      <td>2013-05-10 01:41:19</td>\n",
       "    </tr>\n",
       "    <tr>\n",
       "      <th>3</th>\n",
       "      <td>65</td>\n",
       "      <td>521</td>\n",
       "      <td>noir thriller</td>\n",
       "      <td>2013-05-10 01:39:43</td>\n",
       "    </tr>\n",
       "    <tr>\n",
       "      <th>4</th>\n",
       "      <td>65</td>\n",
       "      <td>592</td>\n",
       "      <td>dark hero</td>\n",
       "      <td>2013-05-10 01:41:18</td>\n",
       "    </tr>\n",
       "    <tr>\n",
       "      <th>...</th>\n",
       "      <td>...</td>\n",
       "      <td>...</td>\n",
       "      <td>...</td>\n",
       "      <td>...</td>\n",
       "    </tr>\n",
       "    <tr>\n",
       "      <th>465559</th>\n",
       "      <td>138446</td>\n",
       "      <td>55999</td>\n",
       "      <td>dragged</td>\n",
       "      <td>2013-01-23 23:29:32</td>\n",
       "    </tr>\n",
       "    <tr>\n",
       "      <th>465560</th>\n",
       "      <td>138446</td>\n",
       "      <td>55999</td>\n",
       "      <td>Jason Bateman</td>\n",
       "      <td>2013-01-23 23:29:38</td>\n",
       "    </tr>\n",
       "    <tr>\n",
       "      <th>465561</th>\n",
       "      <td>138446</td>\n",
       "      <td>55999</td>\n",
       "      <td>quirky</td>\n",
       "      <td>2013-01-23 23:29:38</td>\n",
       "    </tr>\n",
       "    <tr>\n",
       "      <th>465562</th>\n",
       "      <td>138446</td>\n",
       "      <td>55999</td>\n",
       "      <td>sad</td>\n",
       "      <td>2013-01-23 23:29:32</td>\n",
       "    </tr>\n",
       "    <tr>\n",
       "      <th>465563</th>\n",
       "      <td>138472</td>\n",
       "      <td>923</td>\n",
       "      <td>rise to power</td>\n",
       "      <td>2007-11-02 21:12:47</td>\n",
       "    </tr>\n",
       "  </tbody>\n",
       "</table>\n",
       "<p>465564 rows × 4 columns</p>\n",
       "</div>"
      ],
      "text/plain": [
       "        userId  movieId            tag            timestamp\n",
       "0           18     4141    Mark Waters  2009-04-24 18:19:40\n",
       "1           65      208      dark hero  2013-05-10 01:41:18\n",
       "2           65      353      dark hero  2013-05-10 01:41:19\n",
       "3           65      521  noir thriller  2013-05-10 01:39:43\n",
       "4           65      592      dark hero  2013-05-10 01:41:18\n",
       "...        ...      ...            ...                  ...\n",
       "465559  138446    55999        dragged  2013-01-23 23:29:32\n",
       "465560  138446    55999  Jason Bateman  2013-01-23 23:29:38\n",
       "465561  138446    55999         quirky  2013-01-23 23:29:38\n",
       "465562  138446    55999            sad  2013-01-23 23:29:32\n",
       "465563  138472      923  rise to power  2007-11-02 21:12:47\n",
       "\n",
       "[465564 rows x 4 columns]"
      ]
     },
     "execution_count": 5,
     "metadata": {},
     "output_type": "execute_result"
    }
   ],
   "source": [
    "tag.info()\n",
    "tag"
   ]
  },
  {
   "cell_type": "markdown",
   "id": "5884c320",
   "metadata": {},
   "source": [
    "Data ini memiliki jumlah baris sebesar 465.564 entri tag yang diberikan pengguna untuk film dengan fitur sebagai berikut\n",
    "\n",
    "- userId (int64): ID pengguna yang memberikan tag.\n",
    "- movieId (int64): ID film yang ditandai.\n",
    "- tag (object): Tag atau label yang diberikan oleh pengguna, misalnya “funny”, “thriller”, dll.\n",
    "- timestamp (object): Waktu saat tag diberikan.\n",
    "\n",
    "Hampir semua kolom tidak mengandung nilai null kecuali beberapa pada kolom tag yang sangat sedikit."
   ]
  },
  {
   "cell_type": "markdown",
   "id": "07a95742",
   "metadata": {},
   "source": [
    "## Exploratory Data Analysis"
   ]
  },
  {
   "cell_type": "markdown",
   "id": "88d1d026",
   "metadata": {},
   "source": [
    "#### Distribusi Jumlah Rating per Film"
   ]
  },
  {
   "cell_type": "markdown",
   "id": "3abbd7e7",
   "metadata": {},
   "source": [
    "Visualisasi ini membantu melihat sebaran berapa banyak rating yang diterima setiap film."
   ]
  },
  {
   "cell_type": "code",
   "execution_count": 6,
   "id": "53933dda",
   "metadata": {},
   "outputs": [
    {
     "data": {
      "image/png": "[encoded data removed]",
      "text/plain": [
       "<Figure size 1000x600 with 1 Axes>"
      ]
     },
     "metadata": {},
     "output_type": "display_data"
    }
   ],
   "source": [
    "# Hitung jumlah rating per movie\n",
    "rating_counts = ratings['movieId'].value_counts()\n",
    "\n",
    "# Plot histogram jumlah rating per film\n",
    "plt.figure(figsize=(10,6))\n",
    "sns.histplot(rating_counts, bins=50, log_scale=(True, True))\n",
    "plt.xlabel('Jumlah Rating per Film')\n",
    "plt.ylabel('Jumlah Film')\n",
    "plt.title('Distribusi Jumlah Rating per Film')\n",
    "plt.show()"
   ]
  },
  {
   "cell_type": "markdown",
   "id": "f7d19909",
   "metadata": {},
   "source": [
    "Visualisasi distribusi jumlah rating per film menunjukkan bahwa sebagian besar film dalam dataset hanya menerima sedikit rating, sementara hanya sedikit film yang memperoleh rating dalam jumlah besar. Pola ini mencerminkan karakteristik distribusi long-tail, di mana sejumlah kecil film sangat populer dan menarik banyak perhatian pengguna, sedangkan sebagian besar film cenderung kurang dikenal atau jarang ditonton. Dengan menggunakan skala logaritmik pada kedua sumbu, visualisasi ini memperjelas perbedaan ekstrem dalam jumlah rating antar film. Hal ini penting untuk diperhatikan dalam pengembangan sistem rekomendasi, karena bias terhadap film-film populer dapat mengurangi keragaman rekomendasi yang dihasilkan."
   ]
  },
  {
   "cell_type": "markdown",
   "id": "fa8846c9",
   "metadata": {},
   "source": [
    "#### Distribusi Rating"
   ]
  },
  {
   "cell_type": "markdown",
   "id": "6f57ccbb",
   "metadata": {},
   "source": [
    "Visualisasi ini bertujuan untuk melihat bagaimana nilai rating tersebar dari keseluruhan data."
   ]
  },
  {
   "cell_type": "code",
   "execution_count": 7,
   "id": "34053a63",
   "metadata": {},
   "outputs": [
    {
     "data": {
      "image/png": "[encoded data removed]",
      "text/plain": [
       "<Figure size 800x500 with 1 Axes>"
      ]
     },
     "metadata": {},
     "output_type": "display_data"
    }
   ],
   "source": [
    "rating_counts = ratings['rating'].value_counts().sort_index()\n",
    "\n",
    "plt.figure(figsize=(8,5))\n",
    "sns.barplot(x=rating_counts.index, y=rating_counts.values)\n",
    "plt.title('Distribusi Rating Film')\n",
    "plt.xlabel('Rating')\n",
    "plt.ylabel('Jumlah Rating')\n",
    "plt.show()"
   ]
  },
  {
   "cell_type": "markdown",
   "id": "a11b6728",
   "metadata": {},
   "source": [
    "Visualisasi distribusi rating film menunjukkan bahwa sebagian besar pengguna cenderung memberikan rating yang tinggi terhadap film yang mereka tonton. Puncak distribusi terlihat pada rating 4.0 dan 3.5, yang menunjukkan bahwa banyak pengguna menilai film dengan skor di atas rata-rata. Sebaliknya, rating rendah seperti 0.5 dan 1.0 hanya diberikan pada sebagian kecil film, yang mengindikasikan bahwa penilaian negatif lebih jarang terjadi. Pola distribusi ini mencerminkan adanya bias positif dalam perilaku pengguna, yang penting untuk diperhatikan dalam pengembangan sistem rekomendasi agar tidak terlalu mengandalkan skor tinggi sebagai indikator kualitas tanpa mempertimbangkan konteks lainnya.\n"
   ]
  },
  {
   "cell_type": "markdown",
   "id": "625e9faa",
   "metadata": {},
   "source": [
    "#### Jumlah Film per Genre"
   ]
  },
  {
   "cell_type": "markdown",
   "id": "5651f2a5",
   "metadata": {},
   "source": [
    "Genre film banyak membantu dalam Content-Based Filtering. Visualisasi ini menunjukkan genre paling populer."
   ]
  },
  {
   "cell_type": "code",
   "execution_count": 8,
   "id": "1f937ccd",
   "metadata": {},
   "outputs": [
    {
     "data": {
      "image/png": "[encoded data removed]",
      "text/plain": [
       "<Figure size 1200x600 with 1 Axes>"
      ]
     },
     "metadata": {},
     "output_type": "display_data"
    }
   ],
   "source": [
    "# Pecah genre yang berformat string 'Action|Comedy' menjadi list\n",
    "movie['genres_list'] = movie['genres'].apply(lambda x: x.split('|'))\n",
    "\n",
    "# Hitung frekuensi tiap genre\n",
    "from collections import Counter\n",
    "genre_counts = Counter([genre for sublist in movie['genres_list'] for genre in sublist])\n",
    "\n",
    "# Plot genre paling banyak muncul\n",
    "genre_df = pd.DataFrame(genre_counts.items(), columns=['Genre', 'Count']).sort_values(by='Count', ascending=False)\n",
    "\n",
    "plt.figure(figsize=(12,6))\n",
    "sns.barplot(data=genre_df, x='Genre', y='Count', hue='Genre', legend=False, palette='viridis')\n",
    "plt.title('Jumlah Film per Genre')\n",
    "plt.xticks(rotation=45)\n",
    "plt.show()"
   ]
  },
  {
   "cell_type": "markdown",
   "id": "023bd619",
   "metadata": {},
   "source": [
    "Berdasarkan visualisasi jumlah film per genre, terlihat bahwa genre *Drama* merupakan yang paling dominan dengan jumlah film terbanyak, jauh melampaui genre lainnya. Di posisi berikutnya terdapat genre *Comedy*, *Thriller*, dan *Romance* yang juga memiliki jumlah film yang cukup signifikan. Sementara itu, genre seperti *Action*, *Crime*, *Horror*, dan *Documentary* berada pada kategori menengah dalam hal jumlah film. Di sisi lain, terdapat genre-genre dengan jumlah film yang relatif sedikit seperti *Musical*, *Animation*, dan *Western*. Bahkan, beberapa kategori seperti *IMAX* dan *no genres listed* memiliki jumlah film yang sangat kecil, kemungkinan besar mewakili genre khusus atau film tanpa kategori genre yang jelas. Ketimpangan distribusi ini menunjukkan bahwa dataset yang digunakan memiliki konsentrasi film yang tinggi pada genre-genre tertentu, terutama Drama dan Comedy. Hal ini dapat memengaruhi hasil analisis maupun sistem rekomendasi yang dibangun, karena model cenderung bias terhadap genre-genre populer dan kurang mampu merepresentasikan genre-genre minoritas. Oleh karena itu, penting untuk mempertimbangkan metode penyeimbangan data atau pengelompokan ulang genre agar hasil analisis lebih adil dan menyeluruh."
   ]
  },
  {
   "cell_type": "markdown",
   "id": "fa362b60",
   "metadata": {},
   "source": [
    "#### Jumlah Rating per Pengguna"
   ]
  },
  {
   "cell_type": "markdown",
   "id": "474682a8",
   "metadata": {},
   "source": [
    "Visualisasi ini berguna untuk melihat seberapa aktif pengguna dalam memberi rating."
   ]
  },
  {
   "cell_type": "code",
   "execution_count": 9,
   "id": "ba6a11d7",
   "metadata": {},
   "outputs": [
    {
     "data": {
      "image/png": "[encoded data removed]",
      "text/plain": [
       "<Figure size 1000x600 with 1 Axes>"
      ]
     },
     "metadata": {},
     "output_type": "display_data"
    }
   ],
   "source": [
    "user_rating_counts = ratings['userId'].value_counts()\n",
    "\n",
    "plt.figure(figsize=(10,6))\n",
    "sns.histplot(user_rating_counts, bins=50, log_scale=(True, True))\n",
    "plt.xlabel('Jumlah Rating per Pengguna')\n",
    "plt.ylabel('Jumlah Pengguna')\n",
    "plt.title('Distribusi Jumlah Rating per Pengguna')\n",
    "plt.show()"
   ]
  },
  {
   "cell_type": "markdown",
   "id": "531e4927",
   "metadata": {},
   "source": [
    "Berdasarkan visualisasi distribusi jumlah rating per pengguna, terlihat bahwa mayoritas pengguna memberikan sedikit rating, sedangkan hanya sebagian kecil pengguna yang sangat aktif memberikan rating dalam jumlah besar. Grafik yang menggunakan skala logaritmik pada kedua sumbu menunjukkan pola distribusi yang sangat miring ke kanan (right-skewed), menandakan adanya ketimpangan dalam aktivitas pengguna. Hal ini umum terjadi pada data interaksi pengguna, di mana sebagian besar pengguna hanya berkontribusi dalam jumlah kecil, sedangkan sebagian kecil lainnya sangat aktif. Pola seperti ini penting untuk diperhatikan dalam pembangunan sistem rekomendasi, karena pengguna yang sangat aktif cenderung lebih berpengaruh dalam pembentukan model. Oleh karena itu, dalam beberapa kasus, mungkin diperlukan pendekatan khusus untuk menangani ketimpangan ini, misalnya dengan memberikan bobot atau filter pada pengguna berdasarkan tingkat aktivitas mereka, agar model tidak terlalu dipengaruhi oleh kelompok pengguna tertentu."
   ]
  },
  {
   "cell_type": "markdown",
   "id": "acbfd6d2",
   "metadata": {},
   "source": [
    "### Visualisasi 10 Tag Terpopuler"
   ]
  },
  {
   "cell_type": "code",
   "execution_count": 10,
   "id": "05795aad",
   "metadata": {},
   "outputs": [
    {
     "name": "stderr",
     "output_type": "stream",
     "text": [
      "C:\\Users\\T480\\AppData\\Local\\Temp\\ipykernel_27664\\2003093506.py:6: FutureWarning: \n",
      "\n",
      "Passing `palette` without assigning `hue` is deprecated and will be removed in v0.14.0. Assign the `y` variable to `hue` and set `legend=False` for the same effect.\n",
      "\n",
      "  sns.barplot(x=tag_counts.values, y=tag_counts.index, palette='viridis')\n"
     ]
    },
    {
     "data": {
      "image/png": "[encoded data removed]",
      "text/plain": [
       "<Figure size 1000x600 with 1 Axes>"
      ]
     },
     "metadata": {},
     "output_type": "display_data"
    }
   ],
   "source": [
    "# Hitung frekuensi tag\n",
    "tag_counts = tag['tag'].value_counts().head(10)\n",
    "\n",
    "# Plot bar chart\n",
    "plt.figure(figsize=(10,6))\n",
    "sns.barplot(x=tag_counts.values, y=tag_counts.index, palette='viridis')\n",
    "plt.title('10 Tag Terpopuler')\n",
    "plt.xlabel('Jumlah')\n",
    "plt.ylabel('Tag')\n",
    "plt.show()"
   ]
  },
  {
   "cell_type": "markdown",
   "id": "37ce5871",
   "metadata": {},
   "source": [
    "Grafik di atas menampilkan 10 tag yang paling sering muncul dalam dataset, ditampilkan dalam bentuk bar chart horizontal. Tag yang paling dominan adalah *\"sci-fi\"*, diikuti oleh *\"based on a book\"* dan *\"atmospheric\"*, yang menunjukkan bahwa tema fiksi ilmiah, adaptasi dari buku, serta suasana atmosferik sering digunakan untuk menggambarkan film dalam koleksi data ini. Selain itu, tag seperti *\"comedy\"* dan *\"action\"* mencerminkan genre populer yang banyak diminati. Kehadiran tag seperti *\"surreal\"*, *\"twist ending\"*, dan *\"dystopia\"* menunjukkan ketertarikan pengguna terhadap elemen cerita yang tidak biasa dan menggugah. Tag *\"BD-R\"* kemungkinan merujuk pada format distribusi media, sedangkan *\"funny\"* memperkuat keberadaan konten humor dalam film. Secara keseluruhan, visualisasi ini memberikan gambaran awal mengenai preferensi umum atau karakteristik dominan dari film dalam dataset berdasarkan frekuensi tag yang digunakan."
   ]
  },
  {
   "cell_type": "markdown",
   "id": "3c3f06bf",
   "metadata": {},
   "source": [
    "# DATA PREPARATION"
   ]
  },
  {
   "cell_type": "markdown",
   "id": "f714bdd8",
   "metadata": {},
   "source": [
    "#### Menghapus kolom timestamp pada dataset ratings dan tag"
   ]
  },
  {
   "cell_type": "markdown",
   "id": "6a2f3a66",
   "metadata": {},
   "source": [
    "Kolom timestamp yang berisi waktu ketika rating atau tag diberikan dihapus karena tidak relevan untuk analisis rekomendasi berbasis rating dan tag itu sendiri. Hal ini dilakukan untuk mengurangi dimensi data dan fokus pada informasi yang memang dibutuhkan (userId, movieId, rating, dan tag). Ini juga mempercepat proses komputasi."
   ]
  },
  {
   "cell_type": "code",
   "execution_count": 11,
   "id": "976c2922",
   "metadata": {},
   "outputs": [],
   "source": [
    "# Menghapus timestamp\n",
    "ratings.drop(columns='timestamp', inplace=True)\n",
    "tag.drop(columns='timestamp', inplace=True)"
   ]
  },
  {
   "cell_type": "markdown",
   "id": "3cee54b5",
   "metadata": {},
   "source": [
    "#### Menghapus baris dengan nilai tag kosong (missing value) pada dataset tag"
   ]
  },
  {
   "cell_type": "markdown",
   "id": "fbb896ac",
   "metadata": {},
   "source": [
    "Baris-baris yang memiliki nilai tag kosong dihilangkan agar data tag yang digunakan valid dan bermakna karena tag kosong tidak memberikan informasi apapun dan dapat mengganggu proses analisis serta model pembelajaran."
   ]
  },
  {
   "cell_type": "code",
   "execution_count": 12,
   "id": "a6381d38",
   "metadata": {},
   "outputs": [],
   "source": [
    "# Hapus baris dengan tag kosong\n",
    "tag = tag.dropna(subset=['tag'])"
   ]
  },
  {
   "cell_type": "markdown",
   "id": "8c02fbcb",
   "metadata": {},
   "source": [
    "#### Memisahkan tahun rilis film dari judul film pada dataset movie"
   ]
  },
  {
   "cell_type": "markdown",
   "id": "223dd8e5",
   "metadata": {},
   "source": [
    "Menggunakan ekspresi reguler, tahun rilis film yang ada dalam tanda kurung () dipisahkan ke kolom baru year. Judul film kemudian dibersihkan dari informasi tahun tersebut. Tahun rilis merupakan fitur penting yang dapat digunakan untuk analisis tren atau rekomendasi berbasis waktu, sementara judul film menjadi lebih bersih dan standar."
   ]
  },
  {
   "cell_type": "code",
   "execution_count": 13,
   "id": "834274bd",
   "metadata": {},
   "outputs": [],
   "source": [
    "# Pisahkan title dan tahun rilis (dalam kurung)\n",
    "movie['year'] = movie['title'].str.extract(r'\\((\\d{4})\\)')\n",
    "movie['title'] = movie['title'].str.replace(r'\\s*\\(\\d{4}\\)', '', regex=True)"
   ]
  },
  {
   "cell_type": "markdown",
   "id": "4202bd45",
   "metadata": {},
   "source": [
    "#### Memecah kolom genres menjadi list genre"
   ]
  },
  {
   "cell_type": "markdown",
   "id": "bef81ac6",
   "metadata": {},
   "source": [
    "Setiap genre film dipisah menjadi list genre yang lebih mudah untuk diproses (misal untuk content-based filtering). Jika genre tidak tersedia, maka diberikan list kosong. Format list memudahkan pemrosesan fitur genre sebagai kategori dan perhitungan similarity antar film berdasarkan genre."
   ]
  },
  {
   "cell_type": "code",
   "execution_count": 14,
   "id": "39a41b01",
   "metadata": {},
   "outputs": [
    {
     "data": {
      "text/html": [
       "<div>\n",
       "<style scoped>\n",
       "    .dataframe tbody tr th:only-of-type {\n",
       "        vertical-align: middle;\n",
       "    }\n",
       "\n",
       "    .dataframe tbody tr th {\n",
       "        vertical-align: top;\n",
       "    }\n",
       "\n",
       "    .dataframe thead th {\n",
       "        text-align: right;\n",
       "    }\n",
       "</style>\n",
       "<table border=\"1\" class=\"dataframe\">\n",
       "  <thead>\n",
       "    <tr style=\"text-align: right;\">\n",
       "      <th></th>\n",
       "      <th>movieId</th>\n",
       "      <th>title</th>\n",
       "      <th>genres</th>\n",
       "      <th>genres_list</th>\n",
       "      <th>year</th>\n",
       "    </tr>\n",
       "  </thead>\n",
       "  <tbody>\n",
       "    <tr>\n",
       "      <th>0</th>\n",
       "      <td>1</td>\n",
       "      <td>Toy Story</td>\n",
       "      <td>[Adventure, Animation, Children, Comedy, Fantasy]</td>\n",
       "      <td>[Adventure, Animation, Children, Comedy, Fantasy]</td>\n",
       "      <td>1995</td>\n",
       "    </tr>\n",
       "    <tr>\n",
       "      <th>1</th>\n",
       "      <td>2</td>\n",
       "      <td>Jumanji</td>\n",
       "      <td>[Adventure, Children, Fantasy]</td>\n",
       "      <td>[Adventure, Children, Fantasy]</td>\n",
       "      <td>1995</td>\n",
       "    </tr>\n",
       "    <tr>\n",
       "      <th>2</th>\n",
       "      <td>3</td>\n",
       "      <td>Grumpier Old Men</td>\n",
       "      <td>[Comedy, Romance]</td>\n",
       "      <td>[Comedy, Romance]</td>\n",
       "      <td>1995</td>\n",
       "    </tr>\n",
       "    <tr>\n",
       "      <th>3</th>\n",
       "      <td>4</td>\n",
       "      <td>Waiting to Exhale</td>\n",
       "      <td>[Comedy, Drama, Romance]</td>\n",
       "      <td>[Comedy, Drama, Romance]</td>\n",
       "      <td>1995</td>\n",
       "    </tr>\n",
       "    <tr>\n",
       "      <th>4</th>\n",
       "      <td>5</td>\n",
       "      <td>Father of the Bride Part II</td>\n",
       "      <td>[Comedy]</td>\n",
       "      <td>[Comedy]</td>\n",
       "      <td>1995</td>\n",
       "    </tr>\n",
       "    <tr>\n",
       "      <th>...</th>\n",
       "      <td>...</td>\n",
       "      <td>...</td>\n",
       "      <td>...</td>\n",
       "      <td>...</td>\n",
       "      <td>...</td>\n",
       "    </tr>\n",
       "    <tr>\n",
       "      <th>27273</th>\n",
       "      <td>131254</td>\n",
       "      <td>Kein Bund für's Leben</td>\n",
       "      <td>[Comedy]</td>\n",
       "      <td>[Comedy]</td>\n",
       "      <td>2007</td>\n",
       "    </tr>\n",
       "    <tr>\n",
       "      <th>27274</th>\n",
       "      <td>131256</td>\n",
       "      <td>Feuer, Eis &amp; Dosenbier</td>\n",
       "      <td>[Comedy]</td>\n",
       "      <td>[Comedy]</td>\n",
       "      <td>2002</td>\n",
       "    </tr>\n",
       "    <tr>\n",
       "      <th>27275</th>\n",
       "      <td>131258</td>\n",
       "      <td>The Pirates</td>\n",
       "      <td>[Adventure]</td>\n",
       "      <td>[Adventure]</td>\n",
       "      <td>2014</td>\n",
       "    </tr>\n",
       "    <tr>\n",
       "      <th>27276</th>\n",
       "      <td>131260</td>\n",
       "      <td>Rentun Ruusu</td>\n",
       "      <td>[]</td>\n",
       "      <td>[(no genres listed)]</td>\n",
       "      <td>2001</td>\n",
       "    </tr>\n",
       "    <tr>\n",
       "      <th>27277</th>\n",
       "      <td>131262</td>\n",
       "      <td>Innocence</td>\n",
       "      <td>[Adventure, Fantasy, Horror]</td>\n",
       "      <td>[Adventure, Fantasy, Horror]</td>\n",
       "      <td>2014</td>\n",
       "    </tr>\n",
       "  </tbody>\n",
       "</table>\n",
       "<p>27278 rows × 5 columns</p>\n",
       "</div>"
      ],
      "text/plain": [
       "       movieId                        title  \\\n",
       "0            1                    Toy Story   \n",
       "1            2                      Jumanji   \n",
       "2            3             Grumpier Old Men   \n",
       "3            4            Waiting to Exhale   \n",
       "4            5  Father of the Bride Part II   \n",
       "...        ...                          ...   \n",
       "27273   131254        Kein Bund für's Leben   \n",
       "27274   131256       Feuer, Eis & Dosenbier   \n",
       "27275   131258                  The Pirates   \n",
       "27276   131260                 Rentun Ruusu   \n",
       "27277   131262                    Innocence   \n",
       "\n",
       "                                                  genres  \\\n",
       "0      [Adventure, Animation, Children, Comedy, Fantasy]   \n",
       "1                         [Adventure, Children, Fantasy]   \n",
       "2                                      [Comedy, Romance]   \n",
       "3                               [Comedy, Drama, Romance]   \n",
       "4                                               [Comedy]   \n",
       "...                                                  ...   \n",
       "27273                                           [Comedy]   \n",
       "27274                                           [Comedy]   \n",
       "27275                                        [Adventure]   \n",
       "27276                                                 []   \n",
       "27277                       [Adventure, Fantasy, Horror]   \n",
       "\n",
       "                                             genres_list  year  \n",
       "0      [Adventure, Animation, Children, Comedy, Fantasy]  1995  \n",
       "1                         [Adventure, Children, Fantasy]  1995  \n",
       "2                                      [Comedy, Romance]  1995  \n",
       "3                               [Comedy, Drama, Romance]  1995  \n",
       "4                                               [Comedy]  1995  \n",
       "...                                                  ...   ...  \n",
       "27273                                           [Comedy]  2007  \n",
       "27274                                           [Comedy]  2002  \n",
       "27275                                        [Adventure]  2014  \n",
       "27276                               [(no genres listed)]  2001  \n",
       "27277                       [Adventure, Fantasy, Horror]  2014  \n",
       "\n",
       "[27278 rows x 5 columns]"
      ]
     },
     "execution_count": 14,
     "metadata": {},
     "output_type": "execute_result"
    }
   ],
   "source": [
    "# Pecah genres menjadi list\n",
    "movie['genres'] = movie['genres'].apply(lambda x: x.split('|') if x != '(no genres listed)' else [])\n",
    "movie"
   ]
  },
  {
   "cell_type": "markdown",
   "id": "bef83c70",
   "metadata": {},
   "source": [
    "#### Membuat fitur genre sebagai kolom biner (one-hot encoding genre) dari movie"
   ]
  },
  {
   "cell_type": "markdown",
   "id": "c3a3ca44",
   "metadata": {},
   "source": [
    "Pertama, dilakukan pengumpulan seluruh genre unik yang ada pada data film, sehingga terbentuk himpunan genre (genre_set). Selanjutnya, untuk setiap genre dalam himpunan tersebut dibuat kolom baru yang berisi nilai biner, yaitu 1 jika film tersebut memiliki genre tersebut dan 0 jika tidak. Dengan demikian, setiap film direpresentasikan menggunakan fitur biner berdasarkan genre, misalnya kolom genre_Comedy bernilai 1 jika film termasuk genre Comedy. Tahap akhir adalah memilih semua kolom genre yang sudah dibuat sebagai fitur utama untuk digunakan dalam perhitungan kemiripan antar film."
   ]
  },
  {
   "cell_type": "code",
   "execution_count": 15,
   "id": "512fd0d6",
   "metadata": {},
   "outputs": [],
   "source": [
    "# Sudah diasumsikan kolom 'genres' sudah jadi list\n",
    "genre_set = set(g for sublist in movie['genres'] for g in sublist)\n",
    "for genre in genre_set:\n",
    "    movie[f'genre_{genre}'] = movie['genres'].apply(lambda x: int(genre in x))\n",
    "\n",
    "# Ambil hanya fitur genre\n",
    "genre_features = movie[[f'genre_{g}' for g in genre_set]]"
   ]
  },
  {
   "cell_type": "markdown",
   "id": "96e8851d",
   "metadata": {},
   "source": [
    "#### Menggabungkan Semua Tag per Film"
   ]
  },
  {
   "cell_type": "markdown",
   "id": "126281dc",
   "metadata": {},
   "source": [
    "Mengelompokkan data tag berdasarkan movieId dan menggabungkan semua tag menjadi satu string panjang untuk setiap film dengan tujuan untuk mengubah kumpulan tag per film menjadi satu dokumen teks, sehingga bisa digabung dengan genre dan digunakan sebagai input fitur tekstual."
   ]
  },
  {
   "cell_type": "code",
   "execution_count": 16,
   "id": "6ca244c0",
   "metadata": {},
   "outputs": [],
   "source": [
    "# Gabungkan semua tag per movie jadi satu string\n",
    "tag_text = tag.groupby('movieId')['tag'].apply(lambda x: ' '.join(x)).reset_index()"
   ]
  },
  {
   "cell_type": "markdown",
   "id": "890c729c",
   "metadata": {},
   "source": [
    "#### Menggabungkan Tag ke Dataset Utama"
   ]
  },
  {
   "cell_type": "markdown",
   "id": "5c0e60ea",
   "metadata": {},
   "source": [
    "Melakukan merge antara movie dan tag_text berdasarkan movieId. Jika ada film yang tidak memiliki tag, diisi dengan string kosong (''). Tujuannya adalah untuk menyatukan informasi tag dengan data film. Tanpa ini, film tidak memiliki fitur teks gabungan untuk dianalisis dalam CBF."
   ]
  },
  {
   "cell_type": "code",
   "execution_count": 17,
   "id": "8e43963d",
   "metadata": {},
   "outputs": [],
   "source": [
    "movie_with_tag = movie.merge(tag_text, on='movieId', how='left')\n",
    "movie_with_tag['tag'] = movie_with_tag['tag'].fillna('')  # isi NaN dengan string kosong"
   ]
  },
  {
   "cell_type": "markdown",
   "id": "9beec6bf",
   "metadata": {},
   "source": [
    "#### Membuat Kolom Fitur Gabungan Genre + Tag"
   ]
  },
  {
   "cell_type": "markdown",
   "id": "fefc31d2",
   "metadata": {},
   "source": [
    "Membuat kolom baru combined_features yang menggabungkan genre (yang diubah ke string) dan tag untuk setiap film.Tujuannya adalah untuk menyatukan semua informasi konten menjadi satu teks deskriptif yang digunakan untuk menghitung kemiripan antar film."
   ]
  },
  {
   "cell_type": "code",
   "execution_count": 18,
   "id": "2c437c10",
   "metadata": {},
   "outputs": [],
   "source": [
    "# Gabungkan genre (yang sudah berupa list) dan tag jadi satu string untuk fitur text\n",
    "movie_with_tag['combined_features'] = movie_with_tag.apply(lambda x: ' '.join(x['genres']) + ' ' + x['tag'], axis=1)"
   ]
  },
  {
   "cell_type": "markdown",
   "id": "4e157fb4",
   "metadata": {},
   "source": [
    "#### Reset Index"
   ]
  },
  {
   "cell_type": "markdown",
   "id": "956b830e",
   "metadata": {},
   "source": [
    "Melakukan reset pada indeks dataframe untuk memastikan bahwa indeks sesuai urutan baris dan tidak menimbulkan error saat digunakan sebagai referensi dalam cosine similarity."
   ]
  },
  {
   "cell_type": "code",
   "execution_count": 19,
   "id": "62625682",
   "metadata": {},
   "outputs": [],
   "source": [
    "# Reset index supaya index konsisten untuk mapping similarity\n",
    "movie_with_tag = movie_with_tag.reset_index(drop=True)"
   ]
  },
  {
   "cell_type": "markdown",
   "id": "4bfe6426",
   "metadata": {},
   "source": [
    "#### Membuat Representasi Vektor Menggunakan TF-IDF"
   ]
  },
  {
   "cell_type": "markdown",
   "id": "b3b583f1",
   "metadata": {},
   "source": [
    "Menggunakan TF-IDF untuk mengubah teks pada combined_features menjadi matriks fitur numerik. Kata-kata umum dihapus dengan stop_words='english'. Tujuannya adalah untuk memberikan bobot yang proporsional terhadap istilah unik dalam konten film, dan mengubah teks ke bentuk vektor agar bisa dihitung kesamaannya."
   ]
  },
  {
   "cell_type": "code",
   "execution_count": 20,
   "id": "017c6942",
   "metadata": {},
   "outputs": [],
   "source": [
    "from sklearn.feature_extraction.text import TfidfVectorizer\n",
    "\n",
    "# Buat TF-IDF matrix dari fitur gabungan\n",
    "tfidf = TfidfVectorizer(stop_words='english')\n",
    "tfidf_matrix = tfidf.fit_transform(movie_with_tag['combined_features'])"
   ]
  },
  {
   "cell_type": "markdown",
   "id": "e95c2d64",
   "metadata": {},
   "source": [
    "#### Sampling dan Mapping User-Movie ID"
   ]
  },
  {
   "cell_type": "markdown",
   "id": "c18e1ba8",
   "metadata": {},
   "source": [
    "Dataset ratings sangat besar (20 juta+ baris), jadi untuk efisiensi komputasi saya memilih 10.000 user unik secara acak dari dataset rating besar agar proses training lebih cepat dan memori tidak terlalu berat."
   ]
  },
  {
   "cell_type": "code",
   "execution_count": 21,
   "id": "089a8227",
   "metadata": {},
   "outputs": [],
   "source": [
    "import numpy as np\n",
    "\n",
    "rating_sample = ratings[ratings['userId'] <= 10000].copy()\n",
    "\n",
    "# Ambil 10000 user unik secara acak\n",
    "user_sample = np.random.choice(ratings['userId'].unique(), size=10000, replace=False)\n",
    "rating_sample = ratings[ratings['userId'].isin(user_sample)].copy()"
   ]
  },
  {
   "cell_type": "markdown",
   "id": "f263e0be",
   "metadata": {},
   "source": [
    "#### Membuat Mapping ID User dan Movie ke Index Integer"
   ]
  },
  {
   "cell_type": "markdown",
   "id": "18c411eb",
   "metadata": {},
   "source": [
    "Karena model embedding memerlukan input dalam bentuk indeks numerik, maka langkah pertama yang dilakukan adalah membuat dua dictionary, yaitu user_id_mapping dan movie_id_mapping. Dictionary user_id_mapping digunakan untuk mengubah userId asli menjadi indeks numerik berurutan (misalnya 0, 1, 2, dan seterusnya), begitu juga dengan movie_id_mapping yang mengubah movieId menjadi indeks numerik. Setelah mapping ini dibuat, dua kolom baru yaitu user dan movie ditambahkan ke dalam dataframe rating_sample untuk menyimpan hasil konversi tersebut. Representasi numerik ini penting agar data dapat dimasukkan ke dalam embedding layer pada model, yang hanya menerima input berupa indeks integer. Dengan begitu, proses pelatihan model dapat berjalan dengan lebih efisien dan sesuai dengan struktur yang dibutuhkan oleh TensorFlow."
   ]
  },
  {
   "cell_type": "code",
   "execution_count": 22,
   "id": "ba984813",
   "metadata": {},
   "outputs": [],
   "source": [
    "user_id_mapping = {id_: i for i, id_ in enumerate(rating_sample['userId'].unique())}\n",
    "movie_id_mapping = {id_: i for i, id_ in enumerate(rating_sample['movieId'].unique())}\n",
    "\n",
    "rating_sample['user'] = rating_sample['userId'].map(user_id_mapping)\n",
    "rating_sample['movie'] = rating_sample['movieId'].map(movie_id_mapping)"
   ]
  },
  {
   "cell_type": "markdown",
   "id": "045ebce6",
   "metadata": {},
   "source": [
    "# MODELLING AND RESULT"
   ]
  },
  {
   "cell_type": "markdown",
   "id": "299cf4c2",
   "metadata": {},
   "source": [
    "## Content-Based Filtering (CBF)"
   ]
  },
  {
   "cell_type": "markdown",
   "id": "788a8510",
   "metadata": {},
   "source": [
    "#### Menghitung Cosine Similarity antar Semua Film"
   ]
  },
  {
   "cell_type": "markdown",
   "id": "af324f4b",
   "metadata": {},
   "source": [
    "Menghitung kemiripan antar semua pasangan film berdasarkan vektor TF-IDF menggunakan cosine similarity.Tujuannya adalah untuk menentukan film mana yang paling mirip secara konten, yang nantinya akan direkomendasikan ke pengguna."
   ]
  },
  {
   "cell_type": "code",
   "execution_count": 23,
   "id": "7cc460f1",
   "metadata": {},
   "outputs": [],
   "source": [
    "from sklearn.metrics.pairwise import cosine_similarity\n",
    "\n",
    "# Hitung cosine similarity\n",
    "cosine_sim = cosine_similarity(tfidf_matrix, tfidf_matrix)"
   ]
  },
  {
   "cell_type": "markdown",
   "id": "ebbc04ba",
   "metadata": {},
   "source": [
    "#### Fungsi Rekomendasi Film"
   ]
  },
  {
   "cell_type": "markdown",
   "id": "01ce09f2",
   "metadata": {},
   "source": [
    "Fungsi ini menerima input judul film, lalu mencari indeksnya, menghitung kemiripan dengan semua film lainnya, dan mengembalikan top_n film yang paling mirip (selain dirinya sendiri). Fungsi bekerja untuk memberikan daftar rekomendasi film yang kontennya paling mirip dengan film input, berdasarkan genre dan tag."
   ]
  },
  {
   "cell_type": "code",
   "execution_count": 24,
   "id": "807d1efb",
   "metadata": {},
   "outputs": [],
   "source": [
    "# Fungsi untuk rekomendasi berdasarkan judul film\n",
    "def recommend_movies_by_title(title, top_n=5):\n",
    "    # Cari index film berdasarkan title\n",
    "    idx = movie_with_tag[movie_with_tag['title'] == title].index[0]\n",
    "    \n",
    "    # Hitung similarity semua film terhadap film ini\n",
    "    sim_scores = list(enumerate(cosine_sim[idx]))\n",
    "    \n",
    "    # Urutkan berdasarkan similarity tertinggi, kecuali film itu sendiri\n",
    "    sim_scores = sorted(sim_scores, key=lambda x: x[1], reverse=True)[1:top_n+1]\n",
    "    \n",
    "    # Ambil indeks dan skor similarity\n",
    "    movie_indices = [i[0] for i in sim_scores]\n",
    "    scores = [i[1] for i in sim_scores]\n",
    "    \n",
    "    # Ambil data film rekomendasi\n",
    "    results = movie_with_tag.iloc[movie_indices][['title', 'genres']].copy()\n",
    "    results['similarity_score'] = scores\n",
    "    \n",
    "    return results"
   ]
  },
  {
   "cell_type": "markdown",
   "id": "571e6f9d",
   "metadata": {},
   "source": [
    "#### Menyajikan top-5 recommendation sebagai output."
   ]
  },
  {
   "cell_type": "markdown",
   "id": "76ca6f17",
   "metadata": {},
   "source": [
    "Fungsi merekomendasikan beberapa film dengan skor kemiripan tertinggi (misal 5 film teratas), kecuali film input sendiri yang diabaikan. Hasil rekomendasi ini berupa daftar judul film, genre, dan nilai similarity yang menunjukkan seberapa dekat genre film tersebut dengan film input."
   ]
  },
  {
   "cell_type": "code",
   "execution_count": 25,
   "id": "72f76402",
   "metadata": {},
   "outputs": [
    {
     "data": {
      "text/html": [
       "<div>\n",
       "<style scoped>\n",
       "    .dataframe tbody tr th:only-of-type {\n",
       "        vertical-align: middle;\n",
       "    }\n",
       "\n",
       "    .dataframe tbody tr th {\n",
       "        vertical-align: top;\n",
       "    }\n",
       "\n",
       "    .dataframe thead th {\n",
       "        text-align: right;\n",
       "    }\n",
       "</style>\n",
       "<table border=\"1\" class=\"dataframe\">\n",
       "  <thead>\n",
       "    <tr style=\"text-align: right;\">\n",
       "      <th></th>\n",
       "      <th>title</th>\n",
       "      <th>genres</th>\n",
       "      <th>similarity_score</th>\n",
       "    </tr>\n",
       "  </thead>\n",
       "  <tbody>\n",
       "    <tr>\n",
       "      <th>3027</th>\n",
       "      <td>Toy Story 2</td>\n",
       "      <td>[Adventure, Animation, Children, Comedy, Fantasy]</td>\n",
       "      <td>0.935610</td>\n",
       "    </tr>\n",
       "    <tr>\n",
       "      <th>2270</th>\n",
       "      <td>Bug's Life, A</td>\n",
       "      <td>[Adventure, Animation, Children, Comedy]</td>\n",
       "      <td>0.853446</td>\n",
       "    </tr>\n",
       "    <tr>\n",
       "      <th>4790</th>\n",
       "      <td>Monsters, Inc.</td>\n",
       "      <td>[Adventure, Animation, Children, Comedy, Fantasy]</td>\n",
       "      <td>0.807903</td>\n",
       "    </tr>\n",
       "    <tr>\n",
       "      <th>5121</th>\n",
       "      <td>Ice Age</td>\n",
       "      <td>[Adventure, Animation, Children, Comedy]</td>\n",
       "      <td>0.765449</td>\n",
       "    </tr>\n",
       "    <tr>\n",
       "      <th>6271</th>\n",
       "      <td>Finding Nemo</td>\n",
       "      <td>[Adventure, Animation, Children, Comedy]</td>\n",
       "      <td>0.762357</td>\n",
       "    </tr>\n",
       "  </tbody>\n",
       "</table>\n",
       "</div>"
      ],
      "text/plain": [
       "               title                                             genres  \\\n",
       "3027     Toy Story 2  [Adventure, Animation, Children, Comedy, Fantasy]   \n",
       "2270   Bug's Life, A           [Adventure, Animation, Children, Comedy]   \n",
       "4790  Monsters, Inc.  [Adventure, Animation, Children, Comedy, Fantasy]   \n",
       "5121         Ice Age           [Adventure, Animation, Children, Comedy]   \n",
       "6271    Finding Nemo           [Adventure, Animation, Children, Comedy]   \n",
       "\n",
       "      similarity_score  \n",
       "3027          0.935610  \n",
       "2270          0.853446  \n",
       "4790          0.807903  \n",
       "5121          0.765449  \n",
       "6271          0.762357  "
      ]
     },
     "execution_count": 25,
     "metadata": {},
     "output_type": "execute_result"
    }
   ],
   "source": [
    "# Contoh\n",
    "recommend_movies_by_title(\"Toy Story\", top_n=5)"
   ]
  },
  {
   "cell_type": "markdown",
   "id": "dbfa6585",
   "metadata": {},
   "source": [
    "Data hasil rekomendasi menunjukkan daftar film yang memiliki kemiripan genre tertinggi dengan film yang dijadikan acuan, beserta skor kemiripannya. Misalnya, film Antz, Toy Story 2, dan beberapa lainnya memiliki genre yang sama persis seperti Adventure, Animation, Children, Comedy, dan Fantasy, sehingga nilai similarity_score-nya mencapai 1.0 yang berarti sangat mirip atau identik dalam hal genre. Skor ini membantu mengidentifikasi film-film yang sangat relevan untuk direkomendasikan berdasarkan preferensi genre pengguna."
   ]
  },
  {
   "cell_type": "markdown",
   "id": "50ff428c",
   "metadata": {},
   "source": [
    "## Collaborative Filtering (CF)"
   ]
  },
  {
   "cell_type": "markdown",
   "id": "4591a2fb",
   "metadata": {},
   "source": [
    "#### Definisi Model RecommenderNet dengan TensorFlow Keras"
   ]
  },
  {
   "cell_type": "markdown",
   "id": "5299a30c",
   "metadata": {},
   "source": [
    "Model ini menggunakan pendekatan matrix factorization dengan embedding berdimensi 50 untuk merepresentasikan user dan movie. Setiap user dan movie diubah menjadi vektor melalui embedding layer, lalu ditambahkan bias masing-masing untuk menangkap kecenderungan rating umum. Prediksi rating dihitung melalui dot product antara embedding user dan movie ditambah bias, sehingga menghasilkan skor akhir sebagai rating yang diperkirakan."
   ]
  },
  {
   "cell_type": "code",
   "execution_count": 26,
   "id": "e38be237",
   "metadata": {},
   "outputs": [],
   "source": [
    "import tensorflow as tf\n",
    "from tensorflow.keras import layers, Model, regularizers\n",
    "\n",
    "class RecommenderNet(Model):\n",
    "    def __init__(self, num_users, num_movies, embedding_size=50):\n",
    "        super(RecommenderNet, self).__init__()\n",
    "        # Embedding layer untuk user, ukuran embedding 50 dimensi\n",
    "        self.user_embedding = layers.Embedding(num_users, embedding_size,\n",
    "                                               embeddings_regularizer=regularizers.l2(1e-6))\n",
    "        # Embedding layer untuk movie\n",
    "        self.movie_embedding = layers.Embedding(num_movies, embedding_size,\n",
    "                                                embeddings_regularizer=regularizers.l2(1e-6))\n",
    "        # Bias user (untuk menangkap kecenderungan rating user secara umum)\n",
    "        self.user_bias = layers.Embedding(num_users, 1)\n",
    "        # Bias movie (untuk menangkap rating rata-rata movie)\n",
    "        self.movie_bias = layers.Embedding(num_movies, 1)\n",
    "\n",
    "    def call(self, inputs):\n",
    "        # Ambil embedding user dan movie berdasarkan indeks input\n",
    "        user_vector = self.user_embedding(inputs[:, 0])\n",
    "        movie_vector = self.movie_embedding(inputs[:, 1])\n",
    "        user_bias = self.user_bias(inputs[:, 0])\n",
    "        movie_bias = self.movie_bias(inputs[:, 1])\n",
    "        \n",
    "        # Hitung dot product antara embedding user dan movie\n",
    "        dot = tf.reduce_sum(user_vector * movie_vector, axis=1, keepdims=True)\n",
    "        \n",
    "        # Tambahkan bias user dan movie ke hasil dot product\n",
    "        return tf.squeeze(dot + user_bias + movie_bias, axis=1)"
   ]
  },
  {
   "cell_type": "markdown",
   "id": "d16461d4",
   "metadata": {},
   "source": [
    "#### Persiapan Data Training"
   ]
  },
  {
   "cell_type": "markdown",
   "id": "0666735a",
   "metadata": {},
   "source": [
    "Variabel x_train merupakan input untuk model yang berisi pasangan (user_index, movie_index) untuk setiap interaksi rating. Bentuk datanya adalah dua dimensi dengan ukuran (jumlah_data, 2) agar sesuai dengan struktur input yang dibutuhkan oleh model. Sementara itu, y_train berisi nilai rating asli yang diberikan oleh pengguna terhadap film, yang digunakan sebagai target dalam proses pelatihan model untuk memprediksi rating secara akurat."
   ]
  },
  {
   "cell_type": "code",
   "execution_count": 27,
   "id": "f9695277",
   "metadata": {},
   "outputs": [],
   "source": [
    "import numpy as np\n",
    "\n",
    "# Gabungkan kolom user dan movie sebagai input model, format array 2D (N, 2)\n",
    "x_train = np.vstack([rating_sample['user'].values, rating_sample['movie'].values]).T\n",
    "\n",
    "# Target adalah rating asli (nilai float)\n",
    "y_train = rating_sample['rating'].values"
   ]
  },
  {
   "cell_type": "markdown",
   "id": "97156440",
   "metadata": {},
   "source": [
    "#### Kompilasi dan Training Model"
   ]
  },
  {
   "cell_type": "markdown",
   "id": "649ac9c2",
   "metadata": {},
   "source": [
    "Model dibangun dengan jumlah user dan movie yang disesuaikan berdasarkan indeks numerik hasil mapping sebelumnya. Setiap user dan movie direpresentasikan sebagai vektor berdimensi 50 (embedding_size=50), yang memungkinkan model mempelajari representasi laten dari interaksi pengguna dan film. Optimizer Adam dipilih karena dikenal efektif dan efisien untuk berbagai permasalahan dalam deep learning. Fungsi loss yang digunakan adalah mean squared error (MSE), karena tugas ini merupakan masalah regresi, yaitu memprediksi nilai rating numerik. Model dilatih menggunakan batch size sebesar 512, yang berarti model belajar dari 512 data sekaligus dalam satu iterasi. Proses pelatihan berlangsung selama 5 epoch, dengan 10% data disisihkan sebagai validation set untuk memantau performa model dan mencegah overfitting."
   ]
  },
  {
   "cell_type": "code",
   "execution_count": 28,
   "id": "734b472e",
   "metadata": {},
   "outputs": [
    {
     "name": "stdout",
     "output_type": "stream",
     "text": [
      "Epoch 1/5\n",
      "\u001b[1m2535/2535\u001b[0m \u001b[32m━━━━━━━━━━━━━━━━━━━━\u001b[0m\u001b[37m\u001b[0m \u001b[1m63s\u001b[0m 24ms/step - loss: 7.9803 - val_loss: 10.9164\n",
      "Epoch 2/5\n",
      "\u001b[1m2535/2535\u001b[0m \u001b[32m━━━━━━━━━━━━━━━━━━━━\u001b[0m\u001b[37m\u001b[0m \u001b[1m67s\u001b[0m 26ms/step - loss: 0.9043 - val_loss: 10.8690\n",
      "Epoch 3/5\n",
      "\u001b[1m2535/2535\u001b[0m \u001b[32m━━━━━━━━━━━━━━━━━━━━\u001b[0m\u001b[37m\u001b[0m \u001b[1m65s\u001b[0m 26ms/step - loss: 0.7881 - val_loss: 10.8052\n",
      "Epoch 4/5\n",
      "\u001b[1m2535/2535\u001b[0m \u001b[32m━━━━━━━━━━━━━━━━━━━━\u001b[0m\u001b[37m\u001b[0m \u001b[1m71s\u001b[0m 28ms/step - loss: 0.7358 - val_loss: 10.7388\n",
      "Epoch 5/5\n",
      "\u001b[1m2535/2535\u001b[0m \u001b[32m━━━━━━━━━━━━━━━━━━━━\u001b[0m\u001b[37m\u001b[0m \u001b[1m74s\u001b[0m 29ms/step - loss: 0.6949 - val_loss: 10.6752\n"
     ]
    },
    {
     "data": {
      "text/plain": [
       "<keras.src.callbacks.history.History at 0x1c106482710>"
      ]
     },
     "execution_count": 28,
     "metadata": {},
     "output_type": "execute_result"
    }
   ],
   "source": [
    "model = RecommenderNet(num_users=len(user_id_mapping), num_movies=len(movie_id_mapping), embedding_size=50)\n",
    "model.compile(optimizer='adam', loss='mse')\n",
    "\n",
    "model.fit(x_train, y_train, batch_size=512, epochs=5, validation_split=0.1)"
   ]
  },
  {
   "cell_type": "markdown",
   "id": "0e1629fc",
   "metadata": {},
   "source": [
    "#### Fungsi Rekomendasi Film"
   ]
  },
  {
   "cell_type": "markdown",
   "id": "f34590cc",
   "metadata": {},
   "source": [
    "Fungsi ini dimulai dengan menerima user_id asli, kemudian mengubahnya menjadi indeks numerik yang sesuai untuk input ke layer embedding. Setelah itu, dibuat array input yang memuat kombinasi user tersebut dengan semua film dalam dataset, dengan tujuan memprediksi rating untuk seluruh film. Model kemudian digunakan untuk melakukan prediksi terhadap seluruh pasangan user–movie tersebut. Hasil prediksi ini diurutkan berdasarkan nilai tertinggi, dan hanya top-N film dengan prediksi rating tertinggi yang dipilih. Akhirnya, fungsi mengembalikan sebuah dataframe yang berisi movieId, judul film, dan nilai rating prediksi, disusun dari film yang paling direkomendasikan hingga yang paling rendah."
   ]
  },
  {
   "cell_type": "code",
   "execution_count": 29,
   "id": "c3e892b2",
   "metadata": {},
   "outputs": [],
   "source": [
    "def recommend_movies(model, user_id, user_id_mapping, movie_id_mapping, movie_df, top_n=10):\n",
    "    user_idx = user_id_mapping[user_id]\n",
    "    all_movie_indices = np.array(list(movie_id_mapping.values()))\n",
    "    \n",
    "    user_array = np.array([user_idx] * len(all_movie_indices))\n",
    "    input_array = np.vstack([user_array, all_movie_indices]).T\n",
    "    \n",
    "    preds = model.predict(input_array)\n",
    "    top_indices = preds.argsort()[-top_n:][::-1]\n",
    "    \n",
    "    recommended_movie_ids = [list(movie_id_mapping.keys())[i] for i in top_indices]\n",
    "    recommended_movies = movie_df[movie_df['movieId'].isin(recommended_movie_ids)][['movieId', 'title']]\n",
    "    recommended_movies = recommended_movies.assign(predicted_rating=preds[top_indices])\n",
    "    \n",
    "    return recommended_movies.sort_values(by='predicted_rating', ascending=False)"
   ]
  },
  {
   "cell_type": "markdown",
   "id": "c86eb658",
   "metadata": {},
   "source": [
    "#### Menyajikan top-10 Recomendation berdasarkan output"
   ]
  },
  {
   "cell_type": "markdown",
   "id": "2d324ff5",
   "metadata": {},
   "source": [
    "Langkah ini dimulai dengan memilih seorang pengguna secara acak, dalam hal ini menggunakan user pertama yang tersedia dari hasil pemetaan (user_id_mapping). Selanjutnya, fungsi rekomendasi dipanggil untuk pengguna tersebut guna menghasilkan daftar film yang paling mungkin disukai berdasarkan hasil prediksi rating dari model. Akhirnya, ditampilkan 10 film teratas yang direkomendasikan, diurutkan berdasarkan nilai rating prediksi tertinggi ke terendah."
   ]
  },
  {
   "cell_type": "code",
   "execution_count": 30,
   "id": "8706dc55",
   "metadata": {},
   "outputs": [
    {
     "name": "stdout",
     "output_type": "stream",
     "text": [
      "\u001b[1m507/507\u001b[0m \u001b[32m━━━━━━━━━━━━━━━━━━━━\u001b[0m\u001b[37m\u001b[0m \u001b[1m1s\u001b[0m 1ms/step\n"
     ]
    },
    {
     "data": {
      "text/html": [
       "<div>\n",
       "<style scoped>\n",
       "    .dataframe tbody tr th:only-of-type {\n",
       "        vertical-align: middle;\n",
       "    }\n",
       "\n",
       "    .dataframe tbody tr th {\n",
       "        vertical-align: top;\n",
       "    }\n",
       "\n",
       "    .dataframe thead th {\n",
       "        text-align: right;\n",
       "    }\n",
       "</style>\n",
       "<table border=\"1\" class=\"dataframe\">\n",
       "  <thead>\n",
       "    <tr style=\"text-align: right;\">\n",
       "      <th></th>\n",
       "      <th>movieId</th>\n",
       "      <th>title</th>\n",
       "      <th>predicted_rating</th>\n",
       "    </tr>\n",
       "  </thead>\n",
       "  <tbody>\n",
       "    <tr>\n",
       "      <th>910</th>\n",
       "      <td>927</td>\n",
       "      <td>Women, The</td>\n",
       "      <td>5.236884</td>\n",
       "    </tr>\n",
       "    <tr>\n",
       "      <th>1171</th>\n",
       "      <td>1196</td>\n",
       "      <td>Star Wars: Episode V - The Empire Strikes Back</td>\n",
       "      <td>5.067607</td>\n",
       "    </tr>\n",
       "    <tr>\n",
       "      <th>1173</th>\n",
       "      <td>1198</td>\n",
       "      <td>Raiders of the Lost Ark (Indiana Jones and the...</td>\n",
       "      <td>5.030560</td>\n",
       "    </tr>\n",
       "    <tr>\n",
       "      <th>2486</th>\n",
       "      <td>2571</td>\n",
       "      <td>Matrix, The</td>\n",
       "      <td>4.978294</td>\n",
       "    </tr>\n",
       "    <tr>\n",
       "      <th>2690</th>\n",
       "      <td>2776</td>\n",
       "      <td>Marcello Mastroianni: I Remember Yes, I Rememb...</td>\n",
       "      <td>4.945510</td>\n",
       "    </tr>\n",
       "    <tr>\n",
       "      <th>7356</th>\n",
       "      <td>7502</td>\n",
       "      <td>Band of Brothers</td>\n",
       "      <td>4.910772</td>\n",
       "    </tr>\n",
       "    <tr>\n",
       "      <th>9913</th>\n",
       "      <td>32460</td>\n",
       "      <td>Knockin' on Heaven's Door</td>\n",
       "      <td>4.895690</td>\n",
       "    </tr>\n",
       "    <tr>\n",
       "      <th>17305</th>\n",
       "      <td>87308</td>\n",
       "      <td>Jane Eyre</td>\n",
       "      <td>4.879432</td>\n",
       "    </tr>\n",
       "    <tr>\n",
       "      <th>18691</th>\n",
       "      <td>93040</td>\n",
       "      <td>Civil War, The</td>\n",
       "      <td>4.859982</td>\n",
       "    </tr>\n",
       "    <tr>\n",
       "      <th>22679</th>\n",
       "      <td>108583</td>\n",
       "      <td>Fawlty Towers (1975-1979)</td>\n",
       "      <td>4.850785</td>\n",
       "    </tr>\n",
       "  </tbody>\n",
       "</table>\n",
       "</div>"
      ],
      "text/plain": [
       "       movieId                                              title  \\\n",
       "910        927                                         Women, The   \n",
       "1171      1196     Star Wars: Episode V - The Empire Strikes Back   \n",
       "1173      1198  Raiders of the Lost Ark (Indiana Jones and the...   \n",
       "2486      2571                                        Matrix, The   \n",
       "2690      2776  Marcello Mastroianni: I Remember Yes, I Rememb...   \n",
       "7356      7502                                   Band of Brothers   \n",
       "9913     32460                          Knockin' on Heaven's Door   \n",
       "17305    87308                                          Jane Eyre   \n",
       "18691    93040                                     Civil War, The   \n",
       "22679   108583                          Fawlty Towers (1975-1979)   \n",
       "\n",
       "       predicted_rating  \n",
       "910            5.236884  \n",
       "1171           5.067607  \n",
       "1173           5.030560  \n",
       "2486           4.978294  \n",
       "2690           4.945510  \n",
       "7356           4.910772  \n",
       "9913           4.895690  \n",
       "17305          4.879432  \n",
       "18691          4.859982  \n",
       "22679          4.850785  "
      ]
     },
     "execution_count": 30,
     "metadata": {},
     "output_type": "execute_result"
    }
   ],
   "source": [
    "some_user_id = list(user_id_mapping.keys())[0]  # misal ambil userId pertama yang ada di mapping\n",
    "recommendations = recommend_movies(model, some_user_id, user_id_mapping, movie_id_mapping, movie, top_n=10)\n",
    "recommendations"
   ]
  },
  {
   "cell_type": "markdown",
   "id": "5b56e271",
   "metadata": {},
   "source": [
    "Daftar ini menunjukkan bahwa model dapat mengenali film-film populer dan yang berpotensi disukai oleh pengguna tersebut berdasarkan pola interaksi rating sebelumnya. Rekomendasi ini sangat berguna dalam membantu pengguna menemukan film baru yang sesuai preferensinya dan meningkatkan pengalaman penggunaan sistem rekomendasi."
   ]
  },
  {
   "cell_type": "markdown",
   "id": "030b66a6",
   "metadata": {},
   "source": [
    "# EVALUATION"
   ]
  },
  {
   "cell_type": "markdown",
   "id": "f8abd53b",
   "metadata": {},
   "source": [
    "Sistem rekomendasi film ini menggunakan metrik Precision@K dan Recall@K untuk mengukur seberapa relevan item yang direkomendasikan terhadap preferensi pengguna. Precision@K menghitung proporsi item yang relevan dari K rekomendasi teratas, sedangkan Recall@K mengukur sejauh mana sistem berhasil menangkap seluruh item yang relevan."
   ]
  },
  {
   "cell_type": "markdown",
   "id": "ddf0fe84",
   "metadata": {},
   "source": [
    "### Evaluasi Content-Based Filtering (CBF)"
   ]
  },
  {
   "cell_type": "code",
   "execution_count": 39,
   "id": "08874f22",
   "metadata": {},
   "outputs": [],
   "source": [
    "def get_user_favorites(user_id, ratings, threshold=4.0):\n",
    "    return ratings[(ratings['userId'] == user_id) & (ratings['rating'] >= threshold)]\n",
    "\n",
    "def evaluate_cbf_user(user_id, k=5):\n",
    "    fav_movies = get_user_favorites(user_id, ratings)\n",
    "    relevant_movie_ids = set(fav_movies['movieId'].tolist())\n",
    "\n",
    "    precision_scores = []\n",
    "    recall_scores = []\n",
    "\n",
    "    for _, row in fav_movies.iterrows():\n",
    "        movie_id = row['movieId']\n",
    "        title_row = movie_with_tag[movie_with_tag['movieId'] == movie_id]\n",
    "\n",
    "        if title_row.empty:\n",
    "            continue\n",
    "\n",
    "        title = title_row['title'].values[0]\n",
    "        recommendations = recommend_movies_by_title(title, top_n=k)\n",
    "        recommended_movie_ids = movie_with_tag[movie_with_tag['title'].isin(recommendations['title'])]['movieId'].tolist()\n",
    "\n",
    "        precision = precision_at_k(recommended_movie_ids, relevant_movie_ids, k)\n",
    "        recall = recall_at_k(recommended_movie_ids, relevant_movie_ids, k)\n",
    "\n",
    "        precision_scores.append(precision)\n",
    "        recall_scores.append(recall)\n",
    "\n",
    "    return {\n",
    "        'userId': user_id,\n",
    "        'precision@k': np.mean(precision_scores) if precision_scores else 0.0,\n",
    "        'recall@k': np.mean(recall_scores) if recall_scores else 0.0\n",
    "    }"
   ]
  },
  {
   "cell_type": "code",
   "execution_count": 40,
   "id": "fb175bb4",
   "metadata": {},
   "outputs": [
    {
     "name": "stdout",
     "output_type": "stream",
     "text": [
      "Precision@5: 0.1091\n",
      "Recall@5: 0.0062\n"
     ]
    }
   ],
   "source": [
    "# Evaluasi untuk satu user tertentu\n",
    "user_id = 1\n",
    "result = evaluate_cbf_user(user_id, k=5)\n",
    "\n",
    "# Cetak hasil dengan format rapi\n",
    "print(f\"Precision@5: {result['precision@k']:.4f}\")\n",
    "print(f\"Recall@5: {result['recall@k']:.4f}\")"
   ]
  },
  {
   "cell_type": "markdown",
   "id": "1605a1b5",
   "metadata": {},
   "source": [
    "Hasil evaluasi model rekomendasi berbasis content-based filtering menunjukkan nilai Precision@5 sebesar 0.1091 dan Recall@5 sebesar 0.0062. Artinya, dari lima film yang direkomendasikan kepada pengguna, sekitar 11% di antaranya memang relevan dan sesuai dengan preferensi pengguna. Namun, nilai recall yang relatif rendah mengindikasikan bahwa model hanya mampu merekomendasikan kurang dari 1% dari keseluruhan film yang sebenarnya disukai oleh pengguna dalam daftar favorit mereka. Hal ini wajar mengingat model merekomendasikan sejumlah kecil item (top 5) dari koleksi film yang sangat banyak, sehingga sulit untuk mencakup semua preferensi pengguna. "
   ]
  },
  {
   "cell_type": "markdown",
   "id": "485ba1bf",
   "metadata": {},
   "source": [
    "### Evaluasi Collaborative Filtering (CF)"
   ]
  },
  {
   "cell_type": "code",
   "execution_count": 41,
   "id": "e91c10cb",
   "metadata": {},
   "outputs": [
    {
     "name": "stdout",
     "output_type": "stream",
     "text": [
      "Precision@5: 0.6000\n",
      "Recall@5: 0.0207\n"
     ]
    }
   ],
   "source": [
    "def precision_at_k(recommended, relevant, k):\n",
    "    recommended_k = recommended[:k]\n",
    "    relevant_set = set(relevant)\n",
    "    return len([movie for movie in recommended_k if movie in relevant_set]) / k\n",
    "\n",
    "def recall_at_k(recommended, relevant, k):\n",
    "    relevant_set = set(relevant)\n",
    "    recommended_k = recommended[:k]\n",
    "    if len(relevant_set) == 0:\n",
    "        return 0.0\n",
    "    return len([movie for movie in recommended_k if movie in relevant_set]) / len(relevant_set)\n",
    "\n",
    "# Ambil daftar movieId yang direkomendasikan (top-N rekomendasi)\n",
    "recommended = recommendations['movieId'].tolist()  # hasil dari fungsi rekomendasi\n",
    "\n",
    "# Ambil daftar disukai user (misalnya rating >= 4.0)\n",
    "relevant = ratings[(ratings['userId'] == some_user_id) & (ratings['rating'] >= 4.0)]['movieId'].tolist()\n",
    "\n",
    "# Evaluasi dengan Precision@K dan Recall@K\n",
    "k = 5\n",
    "precision = precision_at_k(recommended, relevant, k)\n",
    "recall = recall_at_k(recommended, relevant, k)\n",
    "\n",
    "print(f'Precision@{k}: {precision:.4f}')\n",
    "print(f'Recall@{k}: {recall:.4f}')"
   ]
  },
  {
   "cell_type": "markdown",
   "id": "750166ee",
   "metadata": {},
   "source": [
    "Hasil evaluasi model rekomendasi berbasis collaborative filtering menunjukkan Precision@5 sebesar 0.6000 dan Recall@5 sebesar 0.0207. Artinya, dari lima film yang direkomendasikan, sekitar 60% adalah film yang relevan dan sesuai dengan preferensi pengguna, yang mengindikasikan tingkat akurasi rekomendasi yang cukup tinggi. Namun, nilai recall yang relatif rendah menunjukkan bahwa sistem hanya berhasil merekomendasikan sekitar 2% dari keseluruhan film yang disukai pengguna, sehingga masih banyak film relevan yang belum terjangkau oleh rekomendasi. Hal ini dapat terjadi karena rekomendasi dibatasi hanya pada top 5 film, sementara preferensi pengguna mungkin lebih luas. Meskipun demikian, hasil ini menunjukkan bahwa collaborative filtering cukup efektif dalam menyediakan rekomendasi berkualitas meskipun cakupan recall-nya masih bisa ditingkatkan."
   ]
  },
  {
   "cell_type": "markdown",
   "id": "eedbb5fd",
   "metadata": {},
   "source": [
    "### Kesimpulan"
   ]
  },
  {
   "cell_type": "markdown",
   "id": "29c34dc5",
   "metadata": {},
   "source": [
    "Dari hasil evaluasi sistem rekomendasi yang menggunakan dua metode berbeda, yaitu content-based filtering (CBF) dan collaborative filtering (CF), terlihat perbedaan yang cukup signifikan pada metrik Precision@5 dan Recall@5. Collaborative filtering menunjukkan Precision@5 yang lebih tinggi, yaitu 0.6000, dibandingkan dengan CBF yang hanya mencapai 0.1091. Hal ini menandakan bahwa rekomendasi dari CF lebih akurat dalam menampilkan item yang relevan di antara lima rekomendasi teratas. Namun, nilai Recall@5 pada CF juga relatif rendah (0.0207), serupa dengan CBF (0.0062), yang berarti kedua metode masih memiliki keterbatasan dalam menjangkau seluruh preferensi pengguna secara luas.\n",
    "\n",
    "Dengan kata lain, collaborative filtering mampu menghasilkan rekomendasi yang lebih tepat sasaran meskipun cakupan rekomendasinya masih terbatas. Sementara itu, content-based filtering memberikan rekomendasi yang lebih bervariasi tetapi kurang tepat jika dilihat dari tingkat presisinya. "
   ]
  }
 ],
 "metadata": {
  "kernelspec": {
   "display_name": "fixenv",
   "language": "python",
   "name": "python3"
  },
  "language_info": {
   "codemirror_mode": {
    "name": "ipython",
    "version": 3
   },
   "file_extension": ".py",
   "mimetype": "text/x-python",
   "name": "python",
   "nbconvert_exporter": "python",
   "pygments_lexer": "ipython3",
   "version": "3.11.0"
  }
 },
 "nbformat": 4,
 "nbformat_minor": 5
}
